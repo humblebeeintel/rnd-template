{
 "cells": [
  {
   "cell_type": "code",
   "execution_count": 1,
   "id": "004ffcac",
   "metadata": {},
   "outputs": [],
   "source": [
    "# -*- coding: utf-8 -*-\n",
    "import sys\n",
    "from pathlib import Path\n",
    "\n",
    "root_dir = Path().resolve().parent.parent\n",
    "sys.path.insert(0, str(root_dir))"
   ]
  },
  {
   "cell_type": "code",
   "execution_count": 2,
   "id": "2f8ee34f",
   "metadata": {},
   "outputs": [],
   "source": [
    "# built in modules\n",
    "import logging\n",
    "\n",
    "# third party modules\n",
    "import numpy as np\n",
    "\n",
    "# local modules\n",
    "from config import Config "
   ]
  },
  {
   "cell_type": "code",
   "execution_count": 9,
   "id": "7d772e6a",
   "metadata": {},
   "outputs": [
    {
     "name": "stderr",
     "output_type": "stream",
     "text": [
      "2025-05-05 23:45:09,044 - config - INFO - Loaded config from /Users/asadbey/workspaces/projects/hbai/rnd-template/configs/exp1.yaml\n",
      "2025-05-05 23:45:09,044 - config - INFO - Loaded configuration: exp1\n",
      "2025-05-05 23:45:09,044 - notebook - INFO - Config: Configuration (exp1):\n",
      "  model: \n",
      "    name: exp1_model\n",
      "    batch_size: 32\n",
      "    learning_rate: 0.001\n",
      "    epochs: 10\n",
      "  data: \n",
      "    seed: 42\n",
      "    train_split: 0.8\n",
      "    val_split: 0.1\n",
      "    test_split: 0.1\n",
      "\n"
     ]
    }
   ],
   "source": [
    "logging.basicConfig(\n",
    "    level=logging.INFO, format=\"%(asctime)s - %(name)s - %(levelname)s - %(message)s\"\n",
    ")\n",
    "logger = logging.getLogger(\"notebook\")\n",
    "\n",
    "config = Config(config_name=\"exp1\") \n",
    "logger.info(f\"Config: {config}\")"
   ]
  },
  {
   "cell_type": "code",
   "execution_count": 12,
   "id": "43c811d0",
   "metadata": {},
   "outputs": [
    {
     "name": "stderr",
     "output_type": "stream",
     "text": [
      "2025-05-05 23:45:32,219 - notebook - INFO - Random array: [[0.204401   0.60307136 0.10589693 0.06872766]\n",
      " [0.01325846 0.81883181 0.71532602 0.67398108]\n",
      " [0.86757235 0.7734353  0.2755346  0.7602229 ]]\n",
      "2025-05-05 23:45:32,220 - notebook - INFO - Random array shape: (3, 4)\n"
     ]
    }
   ],
   "source": [
    "arr = np.random.default_rng(config.get_iter(\"model.seed\")).random((3, 4))\n",
    "\n",
    "logger.info(f\"Random array: {arr}\")\n",
    "logger.info(f\"Random array shape: {arr.shape}\")"
   ]
  }
 ],
 "metadata": {
  "kernelspec": {
   "display_name": "py310",
   "language": "python",
   "name": "python3"
  },
  "language_info": {
   "codemirror_mode": {
    "name": "ipython",
    "version": 3
   },
   "file_extension": ".py",
   "mimetype": "text/x-python",
   "name": "python",
   "nbconvert_exporter": "python",
   "pygments_lexer": "ipython3",
   "version": "3.10.15"
  }
 },
 "nbformat": 4,
 "nbformat_minor": 5
}
